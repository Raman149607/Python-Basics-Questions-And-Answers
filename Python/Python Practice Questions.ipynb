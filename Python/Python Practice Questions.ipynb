{
 "cells": [
  {
   "cell_type": "code",
   "execution_count": null,
   "metadata": {},
   "outputs": [],
   "source": [
    "# Taken Logics help from GeeksforGeeks,\n",
    "# removed error with the help of StackOverflow, "
   ]
  },
  {
   "cell_type": "code",
   "execution_count": null,
   "metadata": {},
   "outputs": [],
   "source": [
    "# Input a number and print multiplication of the number"
   ]
  },
  {
   "cell_type": "code",
   "execution_count": 1,
   "metadata": {},
   "outputs": [],
   "source": [
    "def Multiplication_Table(num):\n",
    "    n=(int(input(\"Enter the range for the multiplication table \")))\n",
    "    print(\"Multiplication Table for {}\".format(num))\n",
    "    for i in range(1,n+1):\n",
    "        print(\"{} * {} =\".format(num,i),num*i)\n",
    "    "
   ]
  },
  {
   "cell_type": "code",
   "execution_count": 2,
   "metadata": {},
   "outputs": [
    {
     "name": "stdout",
     "output_type": "stream",
     "text": [
      "Enter the range for the multiplication table 10\n",
      "Multiplication Table for 3\n",
      "3 * 1 = 3\n",
      "3 * 2 = 6\n",
      "3 * 3 = 9\n",
      "3 * 4 = 12\n",
      "3 * 5 = 15\n",
      "3 * 6 = 18\n",
      "3 * 7 = 21\n",
      "3 * 8 = 24\n",
      "3 * 9 = 27\n",
      "3 * 10 = 30\n"
     ]
    }
   ],
   "source": [
    "Multiplication_Table(3)"
   ]
  },
  {
   "cell_type": "code",
   "execution_count": 3,
   "metadata": {},
   "outputs": [],
   "source": [
    "# Program to print twin prime number \n",
    "# If two consecutive odd numbers are both prime then they are known as twin primes\n",
    "#GeeksforGeeks"
   ]
  },
  {
   "cell_type": "code",
   "execution_count": 1,
   "metadata": {},
   "outputs": [
    {
     "name": "stdout",
     "output_type": "stream",
     "text": [
      "Prime Numbers are:\n",
      "enter the range to print prime numbers10\n",
      "[2, 3, 5, 7]\n",
      "\n",
      "\n",
      " Twin prime between range 1 to 10\n",
      "3 5\n",
      "5 7\n"
     ]
    }
   ],
   "source": [
    "def isprime(n):\n",
    "    flag=0\n",
    "    # Check for prime number\n",
    "    for i in range(2,n):\n",
    "        if(n%i==0):\n",
    "            flag=1\n",
    "            break\n",
    "    if flag==1:\n",
    "        return False\n",
    "    else:\n",
    "        return True\n",
    "    \n",
    "# To print Prime Numbers\n",
    "#Appending the prime numbers in list\n",
    "prime_numbers=[]\n",
    "print(\"Prime Numbers are:\")\n",
    "n=(int(input(\"enter the range to print prime numbers\")))\n",
    "for i in range(2,n):\n",
    "    if isprime(i):\n",
    "        prime_numbers.append(i)\n",
    "print(prime_numbers)\n",
    "#To print Twin prime Numbers\n",
    "print(\"\\n\\n Twin prime between range 1 to {}\".format(n))\n",
    "for i in range(len(prime_numbers)-1):\n",
    "    if (prime_numbers[i+1]-prime_numbers[i]==2):\n",
    "        print(prime_numbers[i],prime_numbers[i+1])\n",
    "            \n",
    "    "
   ]
  },
  {
   "cell_type": "code",
   "execution_count": 5,
   "metadata": {},
   "outputs": [],
   "source": [
    "#Print the prime factor of a number\n",
    "#GeeksforGeeks"
   ]
  },
  {
   "cell_type": "code",
   "execution_count": 2,
   "metadata": {},
   "outputs": [
    {
     "name": "stdout",
     "output_type": "stream",
     "text": [
      "Enter the number to print prime factor\n",
      "56\n",
      "[2, 2, 2, 7]\n"
     ]
    }
   ],
   "source": [
    "def prime_factor(n):\n",
    "    pf=[]\n",
    "    while n%2==0:\n",
    "        pf.append(2)\n",
    "        n=n/2\n",
    "    for i in range(3,int(n),2):\n",
    "        while n%i==0:\n",
    "            pf.append(i)\n",
    "            n=n/i\n",
    "    if(n>2):\n",
    "        pf.append(int(n))\n",
    "    print(pf)\n",
    "\n",
    "n=(int(input(\"Enter the number to print prime factor\\n\")))\n",
    "prime_factor(n)"
   ]
  },
  {
   "cell_type": "code",
   "execution_count": null,
   "metadata": {},
   "outputs": [],
   "source": [
    "# To implement these formulae of permutations and combinations.\n",
    "#GeeksforGeeks"
   ]
  },
  {
   "cell_type": "code",
   "execution_count": 3,
   "metadata": {},
   "outputs": [
    {
     "name": "stdout",
     "output_type": "stream",
     "text": [
      "Permutaion and Combination\n",
      "\n",
      "enter the value of n\n",
      "10\n",
      "enter the value of r\n",
      "5\n",
      "The Permutaion of 10 and 5 is\n",
      "30240.0\n",
      "The Combination of 10 and 5 is\n",
      "252.0\n"
     ]
    }
   ],
   "source": [
    "def factorial(z):\n",
    "    fact=1\n",
    "    for i in range(1,z+1):\n",
    "        fact *=i\n",
    "    return fact\n",
    "# Number of permutations of n objects taken r at a time: p(n, r) = n! / (n-r)!. \n",
    "def permutation(n,r):\n",
    "    per=factorial(n)/factorial(n-r)\n",
    "    return per\n",
    "# Number of combinations of n objects taken r at a time is: c(n, r) = n! / (r!*(n-r)!) = p(n,r) / r!\n",
    "def combination(n,r):\n",
    "    com=permutation(n,r)/factorial(r)\n",
    "    return com\n",
    "print(\"Permutaion and Combination\\n\")\n",
    "n=(int(input(\"enter the value of n\\n\")))\n",
    "r=(int(input(\"enter the value of r\\n\")))\n",
    "print(\"The Permutaion of {} and {} is\".format(n,r))\n",
    "print(permutation(n,r))\n",
    "print(\"The Combination of {} and {} is\".format(n,r))\n",
    "print(combination(n,r))"
   ]
  },
  {
   "cell_type": "code",
   "execution_count": null,
   "metadata": {},
   "outputs": [],
   "source": [
    "# function that converts a decimal number to binary number\n"
   ]
  },
  {
   "cell_type": "code",
   "execution_count": 4,
   "metadata": {},
   "outputs": [
    {
     "name": "stdout",
     "output_type": "stream",
     "text": [
      "Enter the number\n",
      "10\n",
      "After Conversion from Decimal to Binary\n",
      "1010"
     ]
    }
   ],
   "source": [
    "def convert_dec_to_Binary(n):\n",
    "    b=[]\n",
    "    while(n>=1):\n",
    "        r=n%2\n",
    "        n=n/2\n",
    "        b.append(int(r))\n",
    "    n=-1\n",
    "    b.reverse()\n",
    "    print(\"After Conversion from Decimal to Binary\")\n",
    "    for i in b:\n",
    "        print(i,end='')\n",
    "    \n",
    "        \n",
    "n=(int(input(\"Enter the number\\n\")))\n",
    "convert_dec_to_Binary(n)"
   ]
  },
  {
   "cell_type": "code",
   "execution_count": null,
   "metadata": {},
   "outputs": [],
   "source": [
    "# Write a function cubesum() that accepts an integer and returns the sum of the cubes of\n",
    "# individual digits of that number. Use this function to make functions PrintArmstrong() and\n",
    "# isArmstrong() to print Armstrong numbers and to find whether is an Armstrong number."
   ]
  },
  {
   "cell_type": "code",
   "execution_count": 8,
   "metadata": {},
   "outputs": [
    {
     "name": "stdout",
     "output_type": "stream",
     "text": [
      "Enter the Number to find Armstrong number\n",
      "153\n",
      "It is an Armstrong Number\n"
     ]
    }
   ],
   "source": [
    "import math\n",
    "def cubesum(temp):\n",
    "    s=0\n",
    "    while temp!=0:\n",
    "        rem=temp%10\n",
    "        s +=int(math.pow(rem,3))\n",
    "        temp=int(temp/10)\n",
    "        \n",
    "    return s\n",
    "\n",
    "\n",
    "def isArmstrong():\n",
    "    flag=0\n",
    "    num=(int(input(\"Enter the Number to find Armstrong number\\n\")))\n",
    "    if(num==cubesum(num)):\n",
    "        flag=1 \n",
    "    else:\n",
    "        flag=0\n",
    "    return flag\n",
    "\n",
    "def PrintArmstrong():\n",
    "    if(isArmstrong()==1):\n",
    "        print(\"It is an Armstrong Number\")\n",
    "    else:\n",
    "        print(\"It is not an Armstrong Number\")\n",
    "        \n",
    "PrintArmstrong()\n",
    "    "
   ]
  },
  {
   "cell_type": "code",
   "execution_count": null,
   "metadata": {},
   "outputs": [],
   "source": [
    "# function prodDigits() that inputs a number and returns the product of digits of that number."
   ]
  },
  {
   "cell_type": "code",
   "execution_count": 9,
   "metadata": {},
   "outputs": [
    {
     "name": "stdout",
     "output_type": "stream",
     "text": [
      "Enter the Number \n",
      "153\n",
      "The product of digits of 153 is 15\n"
     ]
    }
   ],
   "source": [
    "def prodDigits(temp):\n",
    "    s=1\n",
    "    if temp==0:\n",
    "        return 0\n",
    "    while temp>1:\n",
    "        rem=temp%10\n",
    "        s *=rem\n",
    "        temp=int(temp/10)\n",
    "        \n",
    "    return s\n",
    "\n",
    "num=int(input(\"Enter the Number \\n\"))\n",
    "print(\"The product of digits of {} is\".format(num),prodDigits(num))"
   ]
  },
  {
   "cell_type": "code",
   "execution_count": null,
   "metadata": {},
   "outputs": [],
   "source": [
    "# Using the function prodDigits() of previous exercise write functions MDR() and\n",
    "# MPersistence() that input a number and return its multiplicative digital root and\n",
    "# multiplicative persistence respectively\n",
    "#Wikipedia"
   ]
  },
  {
   "cell_type": "code",
   "execution_count": 10,
   "metadata": {},
   "outputs": [
    {
     "name": "stdout",
     "output_type": "stream",
     "text": [
      "Enter the Number to find Multiplication Digit Root\n",
      "86\n",
      "Multiplication Digit Root of 86 is 6\n",
      "\n",
      "Enter the Number to find Multiplicative Persistance\n",
      "86\n",
      "Multiplicative Persistence of 86 is 3\n"
     ]
    }
   ],
   "source": [
    "def prodDigits(temp):\n",
    "    s=1\n",
    "    if temp==0:\n",
    "        return 0\n",
    "    while temp>1:\n",
    "        rem=temp%10\n",
    "        s *=rem\n",
    "        temp=int(temp/10)\n",
    "        \n",
    "    return s\n",
    "\n",
    "def MDR():\n",
    "    num=int(input(\"Enter the Number to find Multiplication Digit Root\\n\"))\n",
    "    temp1=num\n",
    "    mdr=1\n",
    "    while temp1!=0:\n",
    "        mdr=prodDigits(temp1)\n",
    "        if mdr<10:\n",
    "            print(\"Multiplication Digit Root of {} is\".format(num),mdr)\n",
    "            break\n",
    "        \n",
    "        temp1=mdr\n",
    "    \n",
    "def MPersistence():\n",
    "    num=int(input(\"Enter the Number to find Multiplicative Persistance\\n\"))\n",
    "    temp1=[]\n",
    "    while num not in temp1:\n",
    "        temp1.append(num)\n",
    "        num=prodDigits(num)\n",
    "    print(\"Multiplicative Persistence of {} is\".format(temp1[0]),len(temp1)-1)\n",
    "        \n",
    "MDR()\n",
    "print(\"\")\n",
    "MPersistence()"
   ]
  },
  {
   "cell_type": "code",
   "execution_count": null,
   "metadata": {},
   "outputs": [],
   "source": [
    "# function sumPdivisors() that finds the sum of proper divisors of a number. Proper\n",
    "# divisors of a number are those numbers by which the number is divisible, except the\n",
    "# number itself. For example proper divisors of 36 are 1, 2, 3, 4, 6, 9,12,18\n"
   ]
  },
  {
   "cell_type": "code",
   "execution_count": 3,
   "metadata": {},
   "outputs": [
    {
     "name": "stdout",
     "output_type": "stream",
     "text": [
      "Enter The Number \n",
      "10\n",
      "The proper Divisors of 10 is 8\n"
     ]
    }
   ],
   "source": [
    "def sumPdivisors(num):\n",
    "    s=0\n",
    "    for i in range(1,num):\n",
    "        if num%i==0:\n",
    "            s+=i\n",
    "    return s\n",
    "    \n",
    "    \n",
    "num=int(input(\"Enter The Number \\n\"))\n",
    "\n",
    "print(\"The proper Divisors of {} is\".format(num),sumPdivisors(num))\n",
    "        "
   ]
  },
  {
   "cell_type": "code",
   "execution_count": null,
   "metadata": {},
   "outputs": [],
   "source": [
    "# A number is called perfect if the sum of proper divisors of that number is equal to the number. \n",
    "# For example 28 is perfect number, since 1+2+4+7+14=28. \n",
    "# Write a program to print all the perfect numbers in a given range"
   ]
  },
  {
   "cell_type": "code",
   "execution_count": 13,
   "metadata": {},
   "outputs": [
    {
     "name": "stdout",
     "output_type": "stream",
     "text": [
      "Enter The Range to find perfect Numbers \n",
      "50\n",
      "The perfect numbers between 1 to 50 is\n",
      "6\n",
      "28\n"
     ]
    }
   ],
   "source": [
    "def perfectNum():\n",
    "    n=int(input(\"Enter The Range to find perfect Numbers \\n\"))\n",
    "    print(\"The perfect numbers between 1 to {} is\".format(n))\n",
    "    for i in range(1,n+1):\n",
    "        if(i ==sumPdivisors(i)):\n",
    "            print(i)\n",
    "\n",
    "perfectNum()\n",
    "    "
   ]
  },
  {
   "cell_type": "code",
   "execution_count": null,
   "metadata": {},
   "outputs": [],
   "source": [
    "# Two different numbers are called amicable numbers if the sum of the proper divisors of each is equal to the other number.\n",
    "# For example 220 and 284 are amicable numbers\n",
    "# Sum of proper divisors of 220 = 1+2+4+5+10+11+20+22+44+55+110 = 284\n",
    "# Sum of proper divisors of 284 = 1+2+4+71+142 = 220\n",
    "# Write a function to print pairs of amicable numbers in a range\n",
    "# GeeksforGeeks\n"
   ]
  },
  {
   "cell_type": "code",
   "execution_count": 4,
   "metadata": {},
   "outputs": [
    {
     "name": "stdout",
     "output_type": "stream",
     "text": [
      "Enter The Range to find Amicable Numbers.The first Amicable number pair is (220,284).So plese enter the range starting from 300 \n",
      "300\n",
      "The Amicable Numbers between 1 to 300 is\n",
      "220 284\n"
     ]
    }
   ],
   "source": [
    "def Amicable():\n",
    "    n=int(input(\"Enter The Range to find Amicable Numbers.The first Amicable number pair is (220,284).So plese enter the range starting from 300 \\n\"))\n",
    "    print(\"The Amicable Numbers between 1 to {} is\".format(n))\n",
    "    for i in range(1,n+1):\n",
    "        for j in range(i+1,n+1):\n",
    "            if(sumPdivisors(i)==j and sumPdivisors(j)==i):\n",
    "                print(i,j)             \n",
    "Amicable()       "
   ]
  },
  {
   "cell_type": "code",
   "execution_count": 26,
   "metadata": {},
   "outputs": [],
   "source": [
    "# Write a program which can filter odd numbers in a list by using filter function\n",
    "# map() and filter() syntax and calling From AppliedAICourse Tutorial "
   ]
  },
  {
   "cell_type": "code",
   "execution_count": 5,
   "metadata": {},
   "outputs": [
    {
     "name": "stdout",
     "output_type": "stream",
     "text": [
      "Enter the range of list\n",
      "10\n",
      "The elements in list are\n",
      " [1, 2, 3, 4, 5, 6, 7, 8, 9, 10]\n",
      "The odd Number in List are\n",
      " [1, 3, 5, 7, 9]\n"
     ]
    }
   ],
   "source": [
    "def find_odd_number(num):\n",
    "    if num%2!=0:\n",
    "        return num\n",
    "    \n",
    "lst=[]\n",
    "n=(int(input(\"Enter the range of list\\n\")))\n",
    "for i in range(1,n+1):\n",
    "    lst.append(i)\n",
    "print(\"The elements in list are\\n\",lst)\n",
    "odd_num=list(filter(find_odd_number,lst))\n",
    "print(\"The odd Number in List are\\n\",odd_num)"
   ]
  },
  {
   "cell_type": "code",
   "execution_count": null,
   "metadata": {},
   "outputs": [],
   "source": [
    "# Write a program which can map() to make a list whose elements are cube of elements in a given list\n",
    "# map() and filter() syntax and calling From AppliedAICourse Tutorial "
   ]
  },
  {
   "cell_type": "code",
   "execution_count": 6,
   "metadata": {},
   "outputs": [
    {
     "name": "stdout",
     "output_type": "stream",
     "text": [
      "Enter the range of list\n",
      "10\n",
      "The elements in list are\n",
      " [1, 2, 3, 4, 5, 6, 7, 8, 9, 10]\n",
      "The cube of elements in a list are\n",
      " [1, 8, 27, 64, 125, 216, 343, 512, 729, 1000]\n"
     ]
    }
   ],
   "source": [
    "#Given List\n",
    "lst=[]\n",
    "n=(int(input(\"Enter the range of list\\n\")))\n",
    "for i in range(1,n+1):\n",
    "    lst.append(i)\n",
    "print(\"The elements in list are\\n\",lst)\n",
    "\n",
    "def Cube_of_Ele(num):\n",
    "    return num**3\n",
    "\n",
    "Cube = list(map(Cube_of_Ele,lst))\n",
    "print('The cube of elements in a list are\\n',Cube)\n"
   ]
  },
  {
   "cell_type": "code",
   "execution_count": null,
   "metadata": {},
   "outputs": [],
   "source": [
    "# Write a program which can map() and filter() to make a list whose elements are cube of even number in a given list"
   ]
  },
  {
   "cell_type": "code",
   "execution_count": 7,
   "metadata": {},
   "outputs": [
    {
     "name": "stdout",
     "output_type": "stream",
     "text": [
      "Enter the range of list\n",
      "10\n",
      "The elements in list are\n",
      " [1, 2, 3, 4, 5, 6, 7, 8, 9, 10]\n",
      "The cube of even number in a list are\n",
      " [8, 64, 216, 512, 1000]\n"
     ]
    }
   ],
   "source": [
    "#Given List\n",
    "lst=[]\n",
    "n=(int(input(\"Enter the range of list\\n\")))\n",
    "for i in range(1,n+1):\n",
    "    lst.append(i)\n",
    "print(\"The elements in list are\\n\",lst)\n",
    "\n",
    "def even_num(num):\n",
    "    if num%2==0:\n",
    "        return num\n",
    "\n",
    "def cube(num):\n",
    "    return num**3\n",
    "\n",
    "even_number=list(filter(even_num,lst))\n",
    "cube_of_even_number=list(map(cube,even_number))\n",
    "print(\"The cube of even number in a list are\\n\",cube_of_even_number)\n",
    "\n",
    "\n"
   ]
  },
  {
   "cell_type": "code",
   "execution_count": null,
   "metadata": {},
   "outputs": [],
   "source": []
  }
 ],
 "metadata": {
  "kernelspec": {
   "display_name": "Python 3",
   "language": "python",
   "name": "python3"
  },
  "language_info": {
   "codemirror_mode": {
    "name": "ipython",
    "version": 3
   },
   "file_extension": ".py",
   "mimetype": "text/x-python",
   "name": "python",
   "nbconvert_exporter": "python",
   "pygments_lexer": "ipython3",
   "version": "3.7.6"
  }
 },
 "nbformat": 4,
 "nbformat_minor": 4
}
